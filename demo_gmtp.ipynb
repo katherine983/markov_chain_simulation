{
 "cells": [
  {
   "cell_type": "markdown",
   "id": "151b8402",
   "metadata": {},
   "source": [
    "### In depth breakdown of entropy_rate() code\n",
    "The entropy_rate() function requires the steady state probability vector and transition probability matrix as numpy arrays. Because the initiation process of the GMTP class only generates a transition matrix of transition frequencies stored as a dictionary, the process for calculating the entropy rate of the MC model first must convert the transition matrix to a numpy array, convert the transition frequency counts to transition probabilities, and then compute the steady state probabilities via eigendecomposition. This process is completed by the GMTP.eig_steadystate() method. "
   ]
  },
  {
   "cell_type": "markdown",
   "id": "0209665a",
   "metadata": {},
   "source": [
    "See that the transition frequency counts of the square $3^1 x 3^1$ matrix are stored as a dictionary in pincus.tranexp. Each key in the dictionary is a tuple in the format (('a',), ('a',)), where the first element is a tuple of the present state/s, and the second element is a tuple of the future state/s. For higher order Markov chains with order $k>1$ and number of states $a$ in the state space, this matrix is an expanded matrix of $a^k x a^k$ transitions. "
   ]
  }
 ],
 "metadata": {
  "kernelspec": {
   "display_name": "Python 3",
   "language": "python",
   "name": "python3"
  },
  "language_info": {
   "codemirror_mode": {
    "name": "ipython",
    "version": 3
   },
   "file_extension": ".py",
   "mimetype": "text/x-python",
   "name": "python",
   "nbconvert_exporter": "python",
   "pygments_lexer": "ipython3",
   "version": "3.8.8"
  }
 },
 "nbformat": 4,
 "nbformat_minor": 5
}
